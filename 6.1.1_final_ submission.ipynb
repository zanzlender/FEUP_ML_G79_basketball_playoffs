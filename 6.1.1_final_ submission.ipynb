{
 "cells": [
  {
   "cell_type": "code",
   "execution_count": 1,
   "metadata": {},
   "outputs": [],
   "source": [
    "import pandas as pd\n",
    "import matplotlib.pyplot as plt\n",
    "\n",
    "df=pd.read_json(\"C:\\\\Users\\\\L\\\\Downloads\\\\final_year_1_to_10_data.json\")\n",
    "y11=pd.read_json('C:\\\\Users\\\\L\\\\Downloads\\\\final_year_11_data.json')"
   ]
  },
  {
   "cell_type": "code",
   "execution_count": 5,
   "metadata": {},
   "outputs": [],
   "source": [
    "from sklearn.linear_model import LogisticRegression\n",
    "#final code\n",
    "\n",
    "features = ['averageWinRate', 'averageRebounds', 'averageBlocks', 'averageThreeRatio', 'coachWinRate', 'numberOfAwardedPlayers', 'year']\n",
    "target = 'playoff'\n",
    "\n",
    "X_train = df[df[\"year\"] < 7][features]\n",
    "X_test = df[df[\"year\"] >= 7][features]\n",
    "y_train = df[df[\"year\"] < 7][target]\n",
    "y_test = df[df[\"year\"] >= 7][target]\n",
    "\n",
    "model = LogisticRegression(C=0.1, penalty= 'l2', solver= 'newton-cg', tol= 0.001, max_iter= 10000)\n",
    "model.fit(X_train, y_train)\n",
    "\n",
    "y_pred = model.predict(X_test)\n",
    "y_pred_train=model.predict(X_train)\n",
    "\n",
    "pred=model.predict(y11[features])\n",
    "\n",
    "# Step 1: Convert predictions to a DataFrame\n",
    "pred_df = pd.DataFrame(pred, columns=['Predicted_Playoff'])\n",
    "\n",
    "# Step 2: Subset the original DataFrame to get the corresponding 'tmID' values\n",
    "# for the test set\n",
    "test_teams = y11['tmID'].reset_index(drop=True)\n",
    "\n",
    "# Step 3: Join the DataFrames\n",
    "results_df = pd.concat([test_teams, pred_df], axis=1)"
   ]
  },
  {
   "cell_type": "code",
   "execution_count": 8,
   "metadata": {},
   "outputs": [],
   "source": [
    "df_cd_csv = results_df.to_csv()\n",
    "new_file = open(\"C:\\\\Users\\\\L\\\\Downloads\\\\finalsubmission.csv\", \"w\")\n",
    "new_file.writelines(df_cd_csv)\n",
    "new_file.close()"
   ]
  },
  {
   "cell_type": "code",
   "execution_count": null,
   "metadata": {},
   "outputs": [],
   "source": []
  }
 ],
 "metadata": {
  "kernelspec": {
   "display_name": "Python 3",
   "language": "python",
   "name": "python3"
  },
  "language_info": {
   "codemirror_mode": {
    "name": "ipython",
    "version": 3
   },
   "file_extension": ".py",
   "mimetype": "text/x-python",
   "name": "python",
   "nbconvert_exporter": "python",
   "pygments_lexer": "ipython3",
   "version": "3.11.1"
  }
 },
 "nbformat": 4,
 "nbformat_minor": 2
}
