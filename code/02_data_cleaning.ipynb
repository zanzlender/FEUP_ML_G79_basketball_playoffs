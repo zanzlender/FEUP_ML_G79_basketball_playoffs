{
 "cells": [
  {
   "cell_type": "markdown",
   "metadata": {},
   "source": [
    "# Data cleaning\n",
    "\n",
    "In this script we will clean the given datasets, and import them to the local SQLite database."
   ]
  },
  {
   "cell_type": "code",
   "execution_count": 7,
   "metadata": {},
   "outputs": [],
   "source": [
    "# Create connection layer\n",
    "\n",
    "import sqlite3\n",
    "from sqlite3 import Error\n",
    "\n",
    "def create_connection(db_file):\n",
    "    \"\"\" create a database connection to the SQLite database\n",
    "        specified by the db_file\n",
    "    :param db_file: database file\n",
    "    :return: Connection object or None\n",
    "    \"\"\"\n",
    "    conn = None\n",
    "    try:\n",
    "        conn = sqlite3.connect(db_file)\n",
    "        conn.row_factory = sqlite3.Row\n",
    "    except Error as e:\n",
    "        print(e)\n",
    "\n",
    "    return conn\n",
    "        \n",
    "def delete_all_data(conn):\n",
    "    cur = conn.cursor()\n",
    "    print(\"Deleted \", cur.execute(\"DELETE FROM coaches\").rowcount, \" from coaches table.\")\n",
    "    print(\"Deleted \", cur.execute(\"DELETE FROM awards_players\").rowcount, \" from awards_players table.\")\n",
    "    print(\"Deleted \", cur.execute(\"DELETE FROM players_teams\").rowcount, \" from players_teams table.\")\n",
    "    print(\"Deleted \", cur.execute(\"DELETE FROM series_post\").rowcount, \" from series_post table.\")\n",
    "    print(\"Deleted \", cur.execute(\"DELETE FROM teams_post\").rowcount, \" from teams_post table.\")\n",
    "    print(\"Deleted \", cur.execute(\"DELETE FROM teams\").rowcount, \" from teams table.\")\n",
    "    print(\"Deleted \", cur.execute(\"DELETE FROM players\").rowcount, \" from players table.\")\n",
    "\n",
    "\n",
    "database = \"./datasets/original/sqlite_database_g79.db\"\n",
    "\n",
    "# create a database connection\n",
    "conn = create_connection(database)"
   ]
  },
  {
   "cell_type": "code",
   "execution_count": 11,
   "metadata": {},
   "outputs": [],
   "source": [
    "# Query test\n",
    "def get_teams(conn):\n",
    "  cur = conn.cursor()\n",
    "  cur.execute(\"SELECT * FROM teams LIMIT 10\")\n",
    "  \n",
    "  return cur.fetchall()\n",
    "\n",
    "# --------------------------------------------------------------\n",
    "\n",
    "allTeams = get_teams(conn)\n",
    "\n",
    "for i in allTeams:\n",
    "  print(i[\"name\"])"
   ]
  },
  {
   "cell_type": "code",
   "execution_count": 10,
   "metadata": {},
   "outputs": [
    {
     "name": "stdout",
     "output_type": "stream",
     "text": [
      "Deleted  162  from coaches table.\n",
      "Deleted  95  from awards_players table.\n",
      "Deleted  1876  from players_teams table.\n",
      "Deleted  70  from series_post table.\n",
      "Deleted  80  from teams_post table.\n",
      "Deleted  142  from teams table.\n",
      "Deleted  893  from players table.\n"
     ]
    }
   ],
   "source": [
    "delete_all_data(conn)"
   ]
  },
  {
   "cell_type": "code",
   "execution_count": 12,
   "metadata": {},
   "outputs": [],
   "source": [
    "# Close connection \n",
    "\n",
    "conn.close()"
   ]
  }
 ],
 "metadata": {
  "kernelspec": {
   "display_name": "Python 3",
   "language": "python",
   "name": "python3"
  },
  "language_info": {
   "codemirror_mode": {
    "name": "ipython",
    "version": 3
   },
   "file_extension": ".py",
   "mimetype": "text/x-python",
   "name": "python",
   "nbconvert_exporter": "python",
   "pygments_lexer": "ipython3",
   "version": "3.11.0"
  }
 },
 "nbformat": 4,
 "nbformat_minor": 2
}
