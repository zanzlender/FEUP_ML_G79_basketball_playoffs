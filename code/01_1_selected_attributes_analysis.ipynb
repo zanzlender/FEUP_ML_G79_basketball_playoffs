{
 "cells": [
  {
   "cell_type": "markdown",
   "metadata": {},
   "source": [
    "In this notebook we are searching for possible inconsistencies in the attributes connected to attempted and made shots"
   ]
  },
  {
   "cell_type": "markdown",
   "metadata": {},
   "source": [
    "## Players_teams table"
   ]
  },
  {
   "cell_type": "code",
   "execution_count": 2,
   "metadata": {},
   "outputs": [],
   "source": [
    "import pandas as pd\n",
    "df_players_teams = pd.read_csv(\"./datasets/original/players_teams.csv\")"
   ]
  },
  {
   "cell_type": "code",
   "execution_count": 3,
   "metadata": {},
   "outputs": [
    {
     "name": "stdout",
     "output_type": "stream",
     "text": [
      "True    1876\n",
      "Name: count, dtype: int64\n"
     ]
    }
   ],
   "source": [
    "fgAttempted_Made = df_players_teams['fgAttempted'] >= df_players_teams['fgMade']\n",
    "print(fgAttempted_Made.value_counts())"
   ]
  },
  {
   "cell_type": "code",
   "execution_count": 4,
   "metadata": {},
   "outputs": [
    {
     "name": "stdout",
     "output_type": "stream",
     "text": [
      "True    1876\n",
      "Name: count, dtype: int64\n"
     ]
    }
   ],
   "source": [
    "ftAttempted_Made = df_players_teams['ftAttempted'] >= df_players_teams['ftMade']\n",
    "print(fgAttempted_Made.value_counts())"
   ]
  },
  {
   "cell_type": "code",
   "execution_count": 5,
   "metadata": {},
   "outputs": [
    {
     "name": "stdout",
     "output_type": "stream",
     "text": [
      "True    1876\n",
      "Name: count, dtype: int64\n"
     ]
    }
   ],
   "source": [
    "threeAttempted_Made = df_players_teams['threeAttempted'] >= df_players_teams['threeMade']\n",
    "print(threeAttempted_Made.value_counts())"
   ]
  },
  {
   "cell_type": "code",
   "execution_count": 7,
   "metadata": {},
   "outputs": [
    {
     "name": "stdout",
     "output_type": "stream",
     "text": [
      "True    1876\n",
      "Name: count, dtype: int64\n"
     ]
    }
   ],
   "source": [
    "Post_fgAttempted_Made = df_players_teams['PostfgAttempted'] >= df_players_teams['PostfgMade']\n",
    "print(Post_fgAttempted_Made.value_counts())"
   ]
  },
  {
   "cell_type": "code",
   "execution_count": 8,
   "metadata": {},
   "outputs": [
    {
     "name": "stdout",
     "output_type": "stream",
     "text": [
      "True    1876\n",
      "Name: count, dtype: int64\n"
     ]
    }
   ],
   "source": [
    "Post_ftAttempted_Made = df_players_teams['PostftAttempted'] >= df_players_teams['PostftMade']\n",
    "print(Post_ftAttempted_Made.value_counts())"
   ]
  },
  {
   "cell_type": "code",
   "execution_count": 9,
   "metadata": {},
   "outputs": [
    {
     "name": "stdout",
     "output_type": "stream",
     "text": [
      "True    1876\n",
      "Name: count, dtype: int64\n"
     ]
    }
   ],
   "source": [
    "Post_threeAttempted_Made = df_players_teams['PostthreeAttempted'] >= df_players_teams['PostthreeMade']\n",
    "print(Post_threeAttempted_Made.value_counts())"
   ]
  },
  {
   "cell_type": "markdown",
   "metadata": {},
   "source": [
    "## Teams table"
   ]
  },
  {
   "cell_type": "code",
   "execution_count": 10,
   "metadata": {},
   "outputs": [],
   "source": [
    "df_teams = pd.read_csv(\"./datasets/original/teams.csv\")"
   ]
  },
  {
   "cell_type": "code",
   "execution_count": 14,
   "metadata": {},
   "outputs": [
    {
     "name": "stdout",
     "output_type": "stream",
     "text": [
      "True    142\n",
      "Name: count, dtype: int64\n"
     ]
    }
   ],
   "source": [
    "o_fg = df_teams['o_fga'] >= df_teams['o_fgm']\n",
    "print(o_fg.value_counts())"
   ]
  },
  {
   "cell_type": "code",
   "execution_count": 16,
   "metadata": {},
   "outputs": [
    {
     "name": "stdout",
     "output_type": "stream",
     "text": [
      "True    142\n",
      "Name: count, dtype: int64\n"
     ]
    }
   ],
   "source": [
    "o_ft = df_teams['o_fta'] >= df_teams['o_ftm']\n",
    "print(o_ft.value_counts())"
   ]
  },
  {
   "cell_type": "code",
   "execution_count": 17,
   "metadata": {},
   "outputs": [
    {
     "name": "stdout",
     "output_type": "stream",
     "text": [
      "True    142\n",
      "Name: count, dtype: int64\n"
     ]
    }
   ],
   "source": [
    "o_3p = df_teams['o_3pa'] >= df_teams['o_3pm']\n",
    "print(o_3p.value_counts())"
   ]
  },
  {
   "cell_type": "code",
   "execution_count": 20,
   "metadata": {},
   "outputs": [
    {
     "name": "stdout",
     "output_type": "stream",
     "text": [
      "True    142\n",
      "Name: count, dtype: int64\n"
     ]
    }
   ],
   "source": [
    "d_fg = df_teams['d_fga'] >= df_teams['d_fgm']\n",
    "print(d_fg.value_counts())"
   ]
  },
  {
   "cell_type": "code",
   "execution_count": 21,
   "metadata": {},
   "outputs": [
    {
     "name": "stdout",
     "output_type": "stream",
     "text": [
      "True    142\n",
      "Name: count, dtype: int64\n"
     ]
    }
   ],
   "source": [
    "d_ft = df_teams['d_fta'] >= df_teams['d_ftm']\n",
    "print(d_ft.value_counts())"
   ]
  },
  {
   "cell_type": "code",
   "execution_count": 22,
   "metadata": {},
   "outputs": [
    {
     "name": "stdout",
     "output_type": "stream",
     "text": [
      "True    142\n",
      "Name: count, dtype: int64\n"
     ]
    }
   ],
   "source": [
    "d_3p = df_teams['d_3pa'] >= df_teams['d_3pm']\n",
    "print(d_3p.value_counts())"
   ]
  },
  {
   "cell_type": "code",
   "execution_count": 36,
   "metadata": {},
   "outputs": [
    {
     "name": "stdout",
     "output_type": "stream",
     "text": [
      "True    142\n",
      "Name: count, dtype: int64\n",
      "True    142\n",
      "Name: count, dtype: int64\n"
     ]
    }
   ],
   "source": [
    "#checks if won = homeW+awayW\n",
    "sumW = df_teams['won'] == (df_teams['homeW'] + df_teams['awayW'])\n",
    "sumL = df_teams['lost'] == (df_teams['homeL'] + df_teams['awayL'])\n",
    "print(sumW.value_counts())\n",
    "print(sumL.value_counts())"
   ]
  },
  {
   "cell_type": "code",
   "execution_count": null,
   "metadata": {},
   "outputs": [],
   "source": []
  }
 ],
 "metadata": {
  "kernelspec": {
   "display_name": "base",
   "language": "python",
   "name": "python3"
  },
  "language_info": {
   "codemirror_mode": {
    "name": "ipython",
    "version": 3
   },
   "file_extension": ".py",
   "mimetype": "text/x-python",
   "name": "python",
   "nbconvert_exporter": "python",
   "pygments_lexer": "ipython3",
   "version": "3.9.7"
  }
 },
 "nbformat": 4,
 "nbformat_minor": 2
}
