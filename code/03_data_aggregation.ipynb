{
 "cells": [
  {
   "cell_type": "markdown",
   "metadata": {},
   "source": [
    "# Data aggregation\n",
    "\n",
    "In this script we will query and aggregate the data into a new dataset, by connecting to the created local SQLite database."
   ]
  },
  {
   "cell_type": "code",
   "execution_count": 14,
   "metadata": {},
   "outputs": [],
   "source": [
    "# Create connection layer\n",
    "\n",
    "import sqlite3\n",
    "from sqlite3 import Error\n",
    "\n",
    "\n",
    "def create_connection(db_file):\n",
    "    \"\"\" create a database connection to the SQLite database\n",
    "        specified by the db_file\n",
    "    :param db_file: database file\n",
    "    :return: Connection object or None\n",
    "    \"\"\"\n",
    "    conn = None\n",
    "    try:\n",
    "        conn = sqlite3.connect(db_file)\n",
    "        conn.row_factory = sqlite3.Row\n",
    "    except Error as e:\n",
    "        print(e)\n",
    "\n",
    "    return conn\n",
    "\n",
    "\n",
    "database = \"./datasets/original/sqlite_database_g79.db\"\n",
    "\n",
    "# create a database connection\n",
    "conn = create_connection(database)"
   ]
  },
  {
   "cell_type": "code",
   "execution_count": 20,
   "metadata": {},
   "outputs": [
    {
     "name": "stdout",
     "output_type": "stream",
     "text": [
      "Atlanta Dream\n",
      "Atlanta Dream\n",
      "Charlotte Sting\n",
      "Charlotte Sting\n",
      "Charlotte Sting\n",
      "Charlotte Sting\n",
      "Charlotte Sting\n",
      "Charlotte Sting\n",
      "Charlotte Sting\n",
      "Chicago Sky\n"
     ]
    }
   ],
   "source": [
    "# Query test\n",
    "\n",
    "def get_teams(conn):\n",
    "  cur = conn.cursor()\n",
    "  cur.execute(\"SELECT * FROM teams LIMIT 10\")\n",
    "  \n",
    "  return cur.fetchall()\n",
    "\n",
    "# --------------------------------------------------\n",
    "\n",
    "allTeams = get_teams(conn)\n",
    "\n",
    "for i in allTeams:\n",
    "  print(i[\"name\"])"
   ]
  },
  {
   "cell_type": "code",
   "execution_count": null,
   "metadata": {},
   "outputs": [],
   "source": [
    "# Close connection \n",
    "\n",
    "conn.close()"
   ]
  }
 ],
 "metadata": {
  "kernelspec": {
   "display_name": "Python 3",
   "language": "python",
   "name": "python3"
  },
  "language_info": {
   "codemirror_mode": {
    "name": "ipython",
    "version": 3
   },
   "file_extension": ".py",
   "mimetype": "text/x-python",
   "name": "python",
   "nbconvert_exporter": "python",
   "pygments_lexer": "ipython3",
   "version": "3.11.0"
  }
 },
 "nbformat": 4,
 "nbformat_minor": 2
}
