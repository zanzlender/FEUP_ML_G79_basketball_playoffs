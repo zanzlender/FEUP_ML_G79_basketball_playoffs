{
 "cells": [
  {
   "cell_type": "markdown",
   "id": "8181024c",
   "metadata": {},
   "source": [
    "# Data analysis\n",
    "\n",
    "In this section we will check how good the data is, by subjecting it to different processes.\n",
    "\n",
    "**The goal of the whole project is to predict the next year's playoff variable (Y/N) in the teams table for the next year.** \n",
    "\n",
    "## Selected data\n",
    "\n",
    "From the domain analysis we have decided to focus on these attributes:\n",
    "\n",
    "- teams.csv\n",
    "  - year\n",
    "  - tmID\n",
    "  - playoff\n",
    "  - name\n",
    "  - won\n",
    "  - lost\n",
    "  - GP\n",
    "  - o_fgm\n",
    "  - o_fga\n",
    "  - o_ftm\n",
    "  - o_fta\n",
    "  - o_3pm\n",
    "  - o_3pa\n",
    "  - o_oreb\n",
    "  - o_dreb\n",
    "  - o_reb\n",
    "  - o_asts\n",
    "  - o_pf\n",
    "  - o_stl\n",
    "  - o_to\n",
    "  - o_blk\n",
    "  - o_pts\n",
    "  - d_fgm\n",
    "  - d_fga\n",
    "  - d_ftm\n",
    "  - d_fta\n",
    "  - d_3pm\n",
    "  - d_3pa\n",
    "  - d_oreb\n",
    "  - d_dreb\n",
    "  - d_reb\n",
    "  - d_asts\n",
    "  - d_pf\n",
    "  - d_stl\n",
    "  - d_to\n",
    "  - d_blk\n",
    "  - d_pts\n",
    "- teams_post.csv ❌\n",
    "- series_post.csv ❌\n",
    "- awards_players.csv\n",
    "  - playerID\n",
    "  - award\n",
    "  - year\n",
    "- coaches.csv\n",
    "  - coachID\n",
    "  - year\n",
    "  - tmID\n",
    "  - stint\n",
    "  - won\n",
    "  - lost\n",
    "- players.csv\n",
    "  - bioID\n",
    "  - pos\n",
    "  - height?\n",
    "- players_teams.csv \n",
    "  - playerID\n",
    "  - year\n",
    "  - tmID\n",
    "  - minutes\n",
    "  - points\n",
    "  - oRebounds\n",
    "  - dRebounds\n",
    "  - oRebounds\n",
    "  - dRebounds \n",
    "  - rebounds \n",
    "  - assists \n",
    "  - steals\n",
    "  - blocks\n",
    "  - turnovers \n",
    "  - PF\n",
    "  - fgAttempted \n",
    "  - fgMade \n",
    "  - ftAttempted \n",
    "  - ftMade \n",
    "  - threeAttempted \n",
    "  - threeMade \n",
    "\n"
   ]
  },
  {
   "cell_type": "code",
   "execution_count": 13,
   "id": "489256b5-e271-42f3-86b6-b50628000ad0",
   "metadata": {},
   "outputs": [],
   "source": [
    "# Load libraries\n",
    "import numpy as np\n",
    "import pandas as pd\n",
    "import seaborn as sns\n",
    "from sklearn.tree import DecisionTreeClassifier # Import Decision Tree Classifier\n",
    "from sklearn.model_selection import train_test_split # Import train_test_split function\n",
    "from sklearn import metrics #Import scikit-learn metrics module for accuracy calculation\n",
    "from sklearn import tree"
   ]
  },
  {
   "cell_type": "code",
   "execution_count": 16,
   "id": "6225daf2-6304-4445-952e-6b13a7ed41fc",
   "metadata": {},
   "outputs": [],
   "source": [
    "# Define chosen attributes\n",
    "teams_attributes = [\"year\", \"tmID\", \"playoff\",  \"name\", \"won\", \"lost\", \"GP\", \"o_fgm\", \"o_fga\", \"o_ftm\", \"o_fta\", \"o_3pm\", \"o_3pa\", \"o_oreb\", \"o_dreb\", \"o_reb\", \"o_asts\", \"o_pf\", \"o_stl\", \"o_to\", \"o_blk\", \"o_pts\", \"d_fgm\", \"d_fga\", \"d_ftm\", \"d_fta\", \"d_3pm\", \"d_3pa\", \"d_oreb\", \"d_dreb\", \"d_reb\", \"d_asts\", \"d_pf\", \"d_stl\", \"d_to\", \"d_blk\", \"d_pts\"]\n",
    "coaches_attributes = [\"coachID\", \"year\", \"tmID\", \"stint\", \"won\", \"lost\"]\n",
    "players_attributes = [\"bioID\", \"pos\", \"height\"]\n",
    "players_teams_attributes = [\"playerID\",\"year\",\"tmID\",\"minutes\",\"points\",\"oRebounds\",\"dRebounds\",\"oRebounds\",\"dRebounds\", \"rebounds\", \"assists\", \"steals\",\"blocks\",\"turnovers\", \"PF\",\"fgAttempted\", \"fgMade\", \"ftAttempted\", \"ftMade\", \"threeAttempted\", \"threeMade\"]\n",
    "awards_players_attributes = [\"playerID\", \"award\", \"year\"]\n",
    "\n",
    "# Define the datasets\n",
    "df_teams = pd.read_csv(\"./datasets/original/teams.csv\")\n",
    "df_coaches = pd.read_csv(\"./datasets/original/coaches.csv\")\n",
    "df_players = pd.read_csv(\"./datasets/original/players.csv\")\n",
    "df_players_teams = pd.read_csv(\"./datasets/original/players_teams.csv\")\n",
    "df_awards_players = pd.read_csv(\"./datasets/original/awards_players.csv\")"
   ]
  },
  {
   "cell_type": "markdown",
   "id": "5a2b58ae",
   "metadata": {},
   "source": [
    "## Teams table analysis"
   ]
  },
  {
   "cell_type": "code",
   "execution_count": 7,
   "id": "ac0ee8b1-e1dd-4cf1-ab30-a221a7180031",
   "metadata": {},
   "outputs": [
    {
     "data": {
      "text/plain": [
       "[Text(0.4727272727272727, 0.9807692307692307, 'attend <= 144875.5\\ngini = 0.492\\nsamples = 142\\nvalue = [62, 80]'),\n",
       " Text(0.26590909090909093, 0.9423076923076923, 'attend <= 100243.5\\ngini = 0.497\\nsamples = 95\\nvalue = [51, 44]'),\n",
       " Text(0.24772727272727274, 0.9038461538461539, 'gini = 0.0\\nsamples = 8\\nvalue = [8, 0]'),\n",
       " Text(0.2840909090909091, 0.9038461538461539, 'attend <= 142584.5\\ngini = 0.5\\nsamples = 87\\nvalue = [43, 44]'),\n",
       " Text(0.26590909090909093, 0.8653846153846154, 'attend <= 117224.0\\ngini = 0.497\\nsamples = 82\\nvalue = [38, 44]'),\n",
       " Text(0.09090909090909091, 0.8269230769230769, 'attend <= 106806.0\\ngini = 0.475\\nsamples = 18\\nvalue = [11, 7]'),\n",
       " Text(0.05454545454545454, 0.7884615384615384, 'attend <= 104223.5\\ngini = 0.32\\nsamples = 5\\nvalue = [1, 4]'),\n",
       " Text(0.03636363636363636, 0.75, 'attend <= 102937.5\\ngini = 0.5\\nsamples = 2\\nvalue = [1, 1]'),\n",
       " Text(0.01818181818181818, 0.7115384615384616, 'gini = 0.0\\nsamples = 1\\nvalue = [0, 1]'),\n",
       " Text(0.05454545454545454, 0.7115384615384616, 'gini = 0.0\\nsamples = 1\\nvalue = [1, 0]'),\n",
       " Text(0.07272727272727272, 0.75, 'gini = 0.0\\nsamples = 3\\nvalue = [0, 3]'),\n",
       " Text(0.12727272727272726, 0.7884615384615384, 'attend <= 110014.5\\ngini = 0.355\\nsamples = 13\\nvalue = [10, 3]'),\n",
       " Text(0.10909090909090909, 0.75, 'gini = 0.0\\nsamples = 4\\nvalue = [4, 0]'),\n",
       " Text(0.14545454545454545, 0.75, 'attend <= 111862.5\\ngini = 0.444\\nsamples = 9\\nvalue = [6, 3]'),\n",
       " Text(0.12727272727272726, 0.7115384615384616, 'gini = 0.0\\nsamples = 2\\nvalue = [0, 2]'),\n",
       " Text(0.16363636363636364, 0.7115384615384616, 'attend <= 113927.0\\ngini = 0.245\\nsamples = 7\\nvalue = [6, 1]'),\n",
       " Text(0.14545454545454545, 0.6730769230769231, 'gini = 0.0\\nsamples = 3\\nvalue = [3, 0]'),\n",
       " Text(0.18181818181818182, 0.6730769230769231, 'attend <= 114756.5\\ngini = 0.375\\nsamples = 4\\nvalue = [3, 1]'),\n",
       " Text(0.16363636363636364, 0.6346153846153846, 'gini = 0.0\\nsamples = 1\\nvalue = [0, 1]'),\n",
       " Text(0.2, 0.6346153846153846, 'gini = 0.0\\nsamples = 3\\nvalue = [3, 0]'),\n",
       " Text(0.4409090909090909, 0.8269230769230769, 'attend <= 136182.0\\ngini = 0.488\\nsamples = 64\\nvalue = [27, 37]'),\n",
       " Text(0.37272727272727274, 0.7884615384615384, 'attend <= 133429.0\\ngini = 0.454\\nsamples = 46\\nvalue = [16, 30]'),\n",
       " Text(0.32727272727272727, 0.75, 'attend <= 131589.0\\ngini = 0.493\\nsamples = 34\\nvalue = [15, 19]'),\n",
       " Text(0.2909090909090909, 0.7115384615384616, 'attend <= 129470.0\\ngini = 0.48\\nsamples = 30\\nvalue = [12, 18]'),\n",
       " Text(0.2727272727272727, 0.6730769230769231, 'attend <= 128042.0\\ngini = 0.497\\nsamples = 26\\nvalue = [12, 14]'),\n",
       " Text(0.23636363636363636, 0.6346153846153846, 'attend <= 118136.5\\ngini = 0.483\\nsamples = 22\\nvalue = [9, 13]'),\n",
       " Text(0.21818181818181817, 0.5961538461538461, 'gini = 0.0\\nsamples = 1\\nvalue = [0, 1]'),\n",
       " Text(0.2545454545454545, 0.5961538461538461, 'attend <= 118591.5\\ngini = 0.49\\nsamples = 21\\nvalue = [9, 12]'),\n",
       " Text(0.23636363636363636, 0.5576923076923077, 'gini = 0.0\\nsamples = 1\\nvalue = [1, 0]'),\n",
       " Text(0.2727272727272727, 0.5576923076923077, 'attend <= 118797.0\\ngini = 0.48\\nsamples = 20\\nvalue = [8, 12]'),\n",
       " Text(0.2545454545454545, 0.5192307692307693, 'gini = 0.0\\nsamples = 1\\nvalue = [0, 1]'),\n",
       " Text(0.2909090909090909, 0.5192307692307693, 'attend <= 119467.5\\ngini = 0.488\\nsamples = 19\\nvalue = [8, 11]'),\n",
       " Text(0.2727272727272727, 0.4807692307692308, 'gini = 0.0\\nsamples = 1\\nvalue = [1, 0]'),\n",
       " Text(0.3090909090909091, 0.4807692307692308, 'attend <= 120430.0\\ngini = 0.475\\nsamples = 18\\nvalue = [7, 11]'),\n",
       " Text(0.2909090909090909, 0.4423076923076923, 'gini = 0.0\\nsamples = 2\\nvalue = [0, 2]'),\n",
       " Text(0.32727272727272727, 0.4423076923076923, 'attend <= 120641.5\\ngini = 0.492\\nsamples = 16\\nvalue = [7, 9]'),\n",
       " Text(0.3090909090909091, 0.40384615384615385, 'gini = 0.0\\nsamples = 1\\nvalue = [1, 0]'),\n",
       " Text(0.34545454545454546, 0.40384615384615385, 'attend <= 120797.0\\ngini = 0.48\\nsamples = 15\\nvalue = [6, 9]'),\n",
       " Text(0.32727272727272727, 0.36538461538461536, 'gini = 0.0\\nsamples = 2\\nvalue = [0, 2]'),\n",
       " Text(0.36363636363636365, 0.36538461538461536, 'attend <= 121481.5\\ngini = 0.497\\nsamples = 13\\nvalue = [6, 7]'),\n",
       " Text(0.34545454545454546, 0.3269230769230769, 'gini = 0.0\\nsamples = 2\\nvalue = [2, 0]'),\n",
       " Text(0.38181818181818183, 0.3269230769230769, 'attend <= 123457.0\\ngini = 0.463\\nsamples = 11\\nvalue = [4, 7]'),\n",
       " Text(0.36363636363636365, 0.28846153846153844, 'gini = 0.0\\nsamples = 2\\nvalue = [0, 2]'),\n",
       " Text(0.4, 0.28846153846153844, 'attend <= 124621.5\\ngini = 0.494\\nsamples = 9\\nvalue = [4, 5]'),\n",
       " Text(0.38181818181818183, 0.25, 'gini = 0.0\\nsamples = 1\\nvalue = [1, 0]'),\n",
       " Text(0.41818181818181815, 0.25, 'attend <= 125423.0\\ngini = 0.469\\nsamples = 8\\nvalue = [3, 5]'),\n",
       " Text(0.4, 0.21153846153846154, 'gini = 0.0\\nsamples = 1\\nvalue = [0, 1]'),\n",
       " Text(0.43636363636363634, 0.21153846153846154, 'attend <= 125771.0\\ngini = 0.49\\nsamples = 7\\nvalue = [3, 4]'),\n",
       " Text(0.41818181818181815, 0.17307692307692307, 'gini = 0.0\\nsamples = 1\\nvalue = [1, 0]'),\n",
       " Text(0.45454545454545453, 0.17307692307692307, 'attend <= 126448.5\\ngini = 0.444\\nsamples = 6\\nvalue = [2, 4]'),\n",
       " Text(0.43636363636363634, 0.1346153846153846, 'gini = 0.0\\nsamples = 2\\nvalue = [0, 2]'),\n",
       " Text(0.4727272727272727, 0.1346153846153846, 'attend <= 126821.0\\ngini = 0.5\\nsamples = 4\\nvalue = [2, 2]'),\n",
       " Text(0.45454545454545453, 0.09615384615384616, 'gini = 0.0\\nsamples = 1\\nvalue = [1, 0]'),\n",
       " Text(0.4909090909090909, 0.09615384615384616, 'attend <= 127281.0\\ngini = 0.444\\nsamples = 3\\nvalue = [1, 2]'),\n",
       " Text(0.4727272727272727, 0.057692307692307696, 'gini = 0.0\\nsamples = 1\\nvalue = [0, 1]'),\n",
       " Text(0.509090909090909, 0.057692307692307696, 'attend <= 127839.0\\ngini = 0.5\\nsamples = 2\\nvalue = [1, 1]'),\n",
       " Text(0.4909090909090909, 0.019230769230769232, 'gini = 0.0\\nsamples = 1\\nvalue = [1, 0]'),\n",
       " Text(0.5272727272727272, 0.019230769230769232, 'gini = 0.0\\nsamples = 1\\nvalue = [0, 1]'),\n",
       " Text(0.3090909090909091, 0.6346153846153846, 'attend <= 128668.0\\ngini = 0.375\\nsamples = 4\\nvalue = [3, 1]'),\n",
       " Text(0.2909090909090909, 0.5961538461538461, 'gini = 0.0\\nsamples = 2\\nvalue = [2, 0]'),\n",
       " Text(0.32727272727272727, 0.5961538461538461, 'attend <= 128834.5\\ngini = 0.5\\nsamples = 2\\nvalue = [1, 1]'),\n",
       " Text(0.3090909090909091, 0.5576923076923077, 'gini = 0.0\\nsamples = 1\\nvalue = [0, 1]'),\n",
       " Text(0.34545454545454546, 0.5576923076923077, 'gini = 0.0\\nsamples = 1\\nvalue = [1, 0]'),\n",
       " Text(0.3090909090909091, 0.6730769230769231, 'gini = 0.0\\nsamples = 4\\nvalue = [0, 4]'),\n",
       " Text(0.36363636363636365, 0.7115384615384616, 'attend <= 133165.5\\ngini = 0.375\\nsamples = 4\\nvalue = [3, 1]'),\n",
       " Text(0.34545454545454546, 0.6730769230769231, 'gini = 0.0\\nsamples = 2\\nvalue = [2, 0]'),\n",
       " Text(0.38181818181818183, 0.6730769230769231, 'gini = 0.5\\nsamples = 2\\nvalue = [1, 1]'),\n",
       " Text(0.41818181818181815, 0.75, 'attend <= 135009.0\\ngini = 0.153\\nsamples = 12\\nvalue = [1, 11]'),\n",
       " Text(0.4, 0.7115384615384616, 'gini = 0.0\\nsamples = 7\\nvalue = [0, 7]'),\n",
       " Text(0.43636363636363634, 0.7115384615384616, 'attend <= 135272.0\\ngini = 0.32\\nsamples = 5\\nvalue = [1, 4]'),\n",
       " Text(0.41818181818181815, 0.6730769230769231, 'gini = 0.0\\nsamples = 1\\nvalue = [1, 0]'),\n",
       " Text(0.45454545454545453, 0.6730769230769231, 'gini = 0.0\\nsamples = 4\\nvalue = [0, 4]'),\n",
       " Text(0.509090909090909, 0.7884615384615384, 'attend <= 142136.0\\ngini = 0.475\\nsamples = 18\\nvalue = [11, 7]'),\n",
       " Text(0.4909090909090909, 0.75, 'attend <= 137493.5\\ngini = 0.43\\nsamples = 16\\nvalue = [11, 5]'),\n",
       " Text(0.4727272727272727, 0.7115384615384616, 'gini = 0.0\\nsamples = 3\\nvalue = [3, 0]'),\n",
       " Text(0.509090909090909, 0.7115384615384616, 'attend <= 137594.0\\ngini = 0.473\\nsamples = 13\\nvalue = [8, 5]'),\n",
       " Text(0.4909090909090909, 0.6730769230769231, 'gini = 0.0\\nsamples = 1\\nvalue = [0, 1]'),\n",
       " Text(0.5272727272727272, 0.6730769230769231, 'attend <= 138994.0\\ngini = 0.444\\nsamples = 12\\nvalue = [8, 4]'),\n",
       " Text(0.509090909090909, 0.6346153846153846, 'gini = 0.0\\nsamples = 3\\nvalue = [3, 0]'),\n",
       " Text(0.5454545454545454, 0.6346153846153846, 'attend <= 139432.0\\ngini = 0.494\\nsamples = 9\\nvalue = [5, 4]'),\n",
       " Text(0.5272727272727272, 0.5961538461538461, 'gini = 0.0\\nsamples = 1\\nvalue = [0, 1]'),\n",
       " Text(0.5636363636363636, 0.5961538461538461, 'attend <= 140188.5\\ngini = 0.469\\nsamples = 8\\nvalue = [5, 3]'),\n",
       " Text(0.5454545454545454, 0.5576923076923077, 'gini = 0.0\\nsamples = 2\\nvalue = [2, 0]'),\n",
       " Text(0.5818181818181818, 0.5576923076923077, 'attend <= 140877.5\\ngini = 0.5\\nsamples = 6\\nvalue = [3, 3]'),\n",
       " Text(0.5636363636363636, 0.5192307692307693, 'gini = 0.0\\nsamples = 1\\nvalue = [0, 1]'),\n",
       " Text(0.6, 0.5192307692307693, 'attend <= 141267.0\\ngini = 0.48\\nsamples = 5\\nvalue = [3, 2]'),\n",
       " Text(0.5818181818181818, 0.4807692307692308, 'gini = 0.0\\nsamples = 1\\nvalue = [1, 0]'),\n",
       " Text(0.6181818181818182, 0.4807692307692308, 'attend <= 141330.5\\ngini = 0.5\\nsamples = 4\\nvalue = [2, 2]'),\n",
       " Text(0.6, 0.4423076923076923, 'gini = 0.0\\nsamples = 1\\nvalue = [0, 1]'),\n",
       " Text(0.6363636363636364, 0.4423076923076923, 'attend <= 141548.0\\ngini = 0.444\\nsamples = 3\\nvalue = [2, 1]'),\n",
       " Text(0.6181818181818182, 0.40384615384615385, 'gini = 0.0\\nsamples = 1\\nvalue = [1, 0]'),\n",
       " Text(0.6545454545454545, 0.40384615384615385, 'attend <= 141747.5\\ngini = 0.5\\nsamples = 2\\nvalue = [1, 1]'),\n",
       " Text(0.6363636363636364, 0.36538461538461536, 'gini = 0.0\\nsamples = 1\\nvalue = [0, 1]'),\n",
       " Text(0.6727272727272727, 0.36538461538461536, 'gini = 0.0\\nsamples = 1\\nvalue = [1, 0]'),\n",
       " Text(0.5272727272727272, 0.75, 'gini = 0.0\\nsamples = 2\\nvalue = [0, 2]'),\n",
       " Text(0.30227272727272725, 0.8653846153846154, 'gini = 0.0\\nsamples = 5\\nvalue = [5, 0]'),\n",
       " Text(0.6795454545454546, 0.9423076923076923, 'attend <= 147774.5\\ngini = 0.359\\nsamples = 47\\nvalue = [11, 36]'),\n",
       " Text(0.6613636363636364, 0.9038461538461539, 'gini = 0.0\\nsamples = 6\\nvalue = [0, 6]'),\n",
       " Text(0.6977272727272728, 0.9038461538461539, 'attend <= 147838.0\\ngini = 0.393\\nsamples = 41\\nvalue = [11, 30]'),\n",
       " Text(0.6795454545454546, 0.8653846153846154, 'gini = 0.0\\nsamples = 1\\nvalue = [1, 0]'),\n",
       " Text(0.7159090909090909, 0.8653846153846154, 'attend <= 166171.0\\ngini = 0.375\\nsamples = 40\\nvalue = [10, 30]'),\n",
       " Text(0.6363636363636364, 0.8269230769230769, 'attend <= 155313.0\\ngini = 0.278\\nsamples = 18\\nvalue = [3, 15]'),\n",
       " Text(0.6181818181818182, 0.7884615384615384, 'attend <= 154204.5\\ngini = 0.444\\nsamples = 9\\nvalue = [3, 6]'),\n",
       " Text(0.6, 0.75, 'attend <= 149643.5\\ngini = 0.245\\nsamples = 7\\nvalue = [1, 6]'),\n",
       " Text(0.5818181818181818, 0.7115384615384616, 'attend <= 148765.0\\ngini = 0.444\\nsamples = 3\\nvalue = [1, 2]'),\n",
       " Text(0.5636363636363636, 0.6730769230769231, 'gini = 0.0\\nsamples = 2\\nvalue = [0, 2]'),\n",
       " Text(0.6, 0.6730769230769231, 'gini = 0.0\\nsamples = 1\\nvalue = [1, 0]'),\n",
       " Text(0.6181818181818182, 0.7115384615384616, 'gini = 0.0\\nsamples = 4\\nvalue = [0, 4]'),\n",
       " Text(0.6363636363636364, 0.75, 'gini = 0.0\\nsamples = 2\\nvalue = [2, 0]'),\n",
       " Text(0.6545454545454545, 0.7884615384615384, 'gini = 0.0\\nsamples = 9\\nvalue = [0, 9]'),\n",
       " Text(0.7954545454545454, 0.8269230769230769, 'attend <= 176556.5\\ngini = 0.434\\nsamples = 22\\nvalue = [7, 15]'),\n",
       " Text(0.6909090909090909, 0.7884615384615384, 'attend <= 167333.0\\ngini = 0.48\\nsamples = 5\\nvalue = [3, 2]'),\n",
       " Text(0.6727272727272727, 0.75, 'gini = 0.0\\nsamples = 1\\nvalue = [1, 0]'),\n",
       " Text(0.7090909090909091, 0.75, 'attend <= 169781.5\\ngini = 0.5\\nsamples = 4\\nvalue = [2, 2]'),\n",
       " Text(0.6909090909090909, 0.7115384615384616, 'gini = 0.0\\nsamples = 1\\nvalue = [0, 1]'),\n",
       " Text(0.7272727272727273, 0.7115384615384616, 'attend <= 171941.0\\ngini = 0.444\\nsamples = 3\\nvalue = [2, 1]'),\n",
       " Text(0.7090909090909091, 0.6730769230769231, 'gini = 0.0\\nsamples = 1\\nvalue = [1, 0]'),\n",
       " Text(0.7454545454545455, 0.6730769230769231, 'attend <= 174453.5\\ngini = 0.5\\nsamples = 2\\nvalue = [1, 1]'),\n",
       " Text(0.7272727272727273, 0.6346153846153846, 'gini = 0.0\\nsamples = 1\\nvalue = [0, 1]'),\n",
       " Text(0.7636363636363637, 0.6346153846153846, 'gini = 0.0\\nsamples = 1\\nvalue = [1, 0]'),\n",
       " Text(0.9, 0.7884615384615384, 'attend <= 236713.5\\ngini = 0.36\\nsamples = 17\\nvalue = [4, 13]'),\n",
       " Text(0.8363636363636363, 0.75, 'attend <= 180692.5\\ngini = 0.278\\nsamples = 12\\nvalue = [2, 10]'),\n",
       " Text(0.8, 0.7115384615384616, 'attend <= 178769.5\\ngini = 0.444\\nsamples = 3\\nvalue = [1, 2]'),\n",
       " Text(0.7818181818181819, 0.6730769230769231, 'gini = 0.0\\nsamples = 2\\nvalue = [0, 2]'),\n",
       " Text(0.8181818181818182, 0.6730769230769231, 'gini = 0.0\\nsamples = 1\\nvalue = [1, 0]'),\n",
       " Text(0.8727272727272727, 0.7115384615384616, 'attend <= 204211.5\\ngini = 0.198\\nsamples = 9\\nvalue = [1, 8]'),\n",
       " Text(0.8545454545454545, 0.6730769230769231, 'gini = 0.0\\nsamples = 5\\nvalue = [0, 5]'),\n",
       " Text(0.8909090909090909, 0.6730769230769231, 'attend <= 213397.0\\ngini = 0.375\\nsamples = 4\\nvalue = [1, 3]'),\n",
       " Text(0.8727272727272727, 0.6346153846153846, 'gini = 0.0\\nsamples = 1\\nvalue = [1, 0]'),\n",
       " Text(0.9090909090909091, 0.6346153846153846, 'gini = 0.0\\nsamples = 3\\nvalue = [0, 3]'),\n",
       " Text(0.9636363636363636, 0.75, 'attend <= 248616.0\\ngini = 0.48\\nsamples = 5\\nvalue = [2, 3]'),\n",
       " Text(0.9454545454545454, 0.7115384615384616, 'attend <= 241422.0\\ngini = 0.444\\nsamples = 3\\nvalue = [2, 1]'),\n",
       " Text(0.9272727272727272, 0.6730769230769231, 'gini = 0.0\\nsamples = 1\\nvalue = [1, 0]'),\n",
       " Text(0.9636363636363636, 0.6730769230769231, 'attend <= 245400.5\\ngini = 0.5\\nsamples = 2\\nvalue = [1, 1]'),\n",
       " Text(0.9454545454545454, 0.6346153846153846, 'gini = 0.0\\nsamples = 1\\nvalue = [0, 1]'),\n",
       " Text(0.9818181818181818, 0.6346153846153846, 'gini = 0.0\\nsamples = 1\\nvalue = [1, 0]'),\n",
       " Text(0.9818181818181818, 0.7115384615384616, 'gini = 0.0\\nsamples = 2\\nvalue = [0, 2]')]"
      ]
     },
     "execution_count": 7,
     "metadata": {},
     "output_type": "execute_result"
    },
    {
     "data": {
      "image/png": "[encoded data removed]",
      "text/plain": [
       "<Figure size 640x480 with 1 Axes>"
      ]
     },
     "metadata": {},
     "output_type": "display_data"
    }
   ],
   "source": [
    "features=[\"attend\"]\n",
    "X = df_teams[features]\n",
    "y = df_teams['playoff']\n",
    "\n",
    "dtree = DecisionTreeClassifier()\n",
    "dtree = dtree.fit(X, y)\n",
    "\n",
    "tree.plot_tree(dtree, feature_names=features) \n",
    "\n",
    "# Split dataset into training set and test set\n",
    "\n",
    "\n",
    "\n"
   ]
  },
  {
   "cell_type": "code",
   "execution_count": 8,
   "id": "094cc563-eaef-4f81-b7da-4658519a0563",
   "metadata": {},
   "outputs": [
    {
     "name": "stdout",
     "output_type": "stream",
     "text": [
      "Accuracy: 0.4583333333333333\n"
     ]
    }
   ],
   "source": [
    "#X_train, X_test, y_train, y_test = train_test_split(X, y, test_size=0.3, random_state=1) # 70% training and 30% test\n",
    "#trainmask=df_teams[df_teams[\"year\"]>3] #train\n",
    "#testmask=df_teams[df_teams[\"year\"]<=3] #test\n",
    "\n",
    "X_train=df_teams[df_teams[\"year\"]>3][features]\n",
    "X_test=df_teams[df_teams[\"year\"]<=3][features]\n",
    "y_train=df_teams[df_teams[\"year\"]>3][\"playoff\"]\n",
    "y_test=df_teams[df_teams[\"year\"]<=3][\"playoff\"]\n",
    "\n",
    "#use latest years for training and leave older years for testing\n",
    "# Create Decision Tree classifer object\n",
    "clf = DecisionTreeClassifier()\n",
    "\n",
    "# Train Decision Tree Classifer\n",
    "clf = clf.fit(X_train,y_train)\n",
    "\n",
    "#Predict the response for test dataset\n",
    "y_pred = clf.predict(X_test)\n",
    "\n",
    "# Model Accuracy, how often is the classifier correct?\n",
    "print(\"Accuracy:\",metrics.accuracy_score(y_test, y_pred))\n",
    "#add other stuff indexex, confusion matrix for exmaple\n"
   ]
  },
  {
   "cell_type": "code",
   "execution_count": 9,
   "id": "e826a739-f5c5-4085-b20f-750740a9593d",
   "metadata": {},
   "outputs": [],
   "source": [
    "from sklearn.metrics import confusion_matrix\n",
    "\n",
    "conf_matrix = confusion_matrix(y_test, y_pred)\n"
   ]
  },
  {
   "cell_type": "code",
   "execution_count": 10,
   "id": "c8da68f5-2d3d-4869-83b9-408f6a387876",
   "metadata": {},
   "outputs": [
    {
     "data": {
      "text/plain": [
       "array([[13, 11],\n",
       "       [15,  9]], dtype=int64)"
      ]
     },
     "execution_count": 10,
     "metadata": {},
     "output_type": "execute_result"
    }
   ],
   "source": [
    "conf_matrix #70 to 30% random #acc78??? ifk"
   ]
  },
  {
   "cell_type": "code",
   "execution_count": 11,
   "id": "f3ca8f73-4fce-406e-a2fa-bdd7286ebdb0",
   "metadata": {},
   "outputs": [
    {
     "data": {
      "text/plain": [
       "array([[13, 11],\n",
       "       [15,  9]], dtype=int64)"
      ]
     },
     "execution_count": 11,
     "metadata": {},
     "output_type": "execute_result"
    }
   ],
   "source": [
    "conf_matrix # train is over 3 #acc 91"
   ]
  },
  {
   "cell_type": "code",
   "execution_count": 12,
   "id": "05f2c210-0a65-404a-9acf-9bacb53d9d42",
   "metadata": {},
   "outputs": [
    {
     "data": {
      "text/plain": [
       "array([[13, 11],\n",
       "       [15,  9]], dtype=int64)"
      ]
     },
     "execution_count": 12,
     "metadata": {},
     "output_type": "execute_result"
    }
   ],
   "source": [
    "conf_matrix #train is over 4 #acc 80"
   ]
  },
  {
   "cell_type": "code",
   "execution_count": null,
   "id": "03693df6-9aab-4709-adcb-66fe7fe76261",
   "metadata": {},
   "outputs": [],
   "source": []
  },
  {
   "cell_type": "markdown",
   "id": "d649e80b",
   "metadata": {},
   "source": [
    "### Check for null values\n"
   ]
  },
  {
   "cell_type": "code",
   "execution_count": 6,
   "id": "f694571d",
   "metadata": {},
   "outputs": [
    {
     "data": {
      "text/plain": [
       "year        0\n",
       "lgID        0\n",
       "tmID        0\n",
       "franchID    0\n",
       "confID      0\n",
       "           ..\n",
       "confW       0\n",
       "confL       0\n",
       "min         0\n",
       "attend      0\n",
       "arena       0\n",
       "Length: 61, dtype: int64"
      ]
     },
     "execution_count": 6,
     "metadata": {},
     "output_type": "execute_result"
    }
   ],
   "source": [
    "df_teams.isnull().sum()"
   ]
  },
  {
   "cell_type": "code",
   "execution_count": 11,
   "id": "043856e3",
   "metadata": {},
   "outputs": [
    {
     "data": {
      "text/plain": [
       "<AxesSubplot: >"
      ]
     },
     "execution_count": 11,
     "metadata": {},
     "output_type": "execute_result"
    },
    {
     "data": {
      "image/png": "[encoded data removed]",
      "text/plain": [
       "<Figure size 640x480 with 2 Axes>"
      ]
     },
     "metadata": {},
     "output_type": "display_data"
    }
   ],
   "source": [
    "sns.heatmap(df_teams.isnull(), yticklabels=False, annot=True)"
   ]
  },
  {
   "cell_type": "code",
   "execution_count": null,
   "id": "4ef2bc76",
   "metadata": {},
   "outputs": [],
   "source": [
    "df_teams.dropna(how=\"all\")"
   ]
  },
  {
   "cell_type": "markdown",
   "id": "d7465566",
   "metadata": {},
   "source": [
    "## Players table analysis\n",
    "\n",
    "**1st** Check for null values. Some players have a lot of missing values and we assume they are totally wrong.\n",
    "\n"
   ]
  },
  {
   "cell_type": "code",
   "execution_count": 38,
   "id": "663b249a",
   "metadata": {},
   "outputs": [
    {
     "data": {
      "text/html": [
       "<div>\n",
       "<style scoped>\n",
       "    .dataframe tbody tr th:only-of-type {\n",
       "        vertical-align: middle;\n",
       "    }\n",
       "\n",
       "    .dataframe tbody tr th {\n",
       "        vertical-align: top;\n",
       "    }\n",
       "\n",
       "    .dataframe thead th {\n",
       "        text-align: right;\n",
       "    }\n",
       "</style>\n",
       "<table border=\"1\" class=\"dataframe\">\n",
       "  <thead>\n",
       "    <tr style=\"text-align: right;\">\n",
       "      <th></th>\n",
       "      <th>bioID</th>\n",
       "      <th>pos</th>\n",
       "      <th>firstseason</th>\n",
       "      <th>lastseason</th>\n",
       "      <th>height</th>\n",
       "      <th>weight</th>\n",
       "      <th>college</th>\n",
       "      <th>collegeOther</th>\n",
       "      <th>birthDate</th>\n",
       "      <th>deathDate</th>\n",
       "    </tr>\n",
       "  </thead>\n",
       "  <tbody>\n",
       "    <tr>\n",
       "      <th>0</th>\n",
       "      <td>abrahta01w</td>\n",
       "      <td>C</td>\n",
       "      <td>0</td>\n",
       "      <td>0</td>\n",
       "      <td>74.0</td>\n",
       "      <td>190</td>\n",
       "      <td>George Washington</td>\n",
       "      <td>NaN</td>\n",
       "      <td>1975-09-27</td>\n",
       "      <td>NaN</td>\n",
       "    </tr>\n",
       "    <tr>\n",
       "      <th>1</th>\n",
       "      <td>abrossv01w</td>\n",
       "      <td>F</td>\n",
       "      <td>0</td>\n",
       "      <td>0</td>\n",
       "      <td>74.0</td>\n",
       "      <td>169</td>\n",
       "      <td>Connecticut</td>\n",
       "      <td>NaN</td>\n",
       "      <td>1980-07-09</td>\n",
       "      <td>NaN</td>\n",
       "    </tr>\n",
       "    <tr>\n",
       "      <th>2</th>\n",
       "      <td>adairje01w</td>\n",
       "      <td>C</td>\n",
       "      <td>0</td>\n",
       "      <td>0</td>\n",
       "      <td>76.0</td>\n",
       "      <td>197</td>\n",
       "      <td>George Washington</td>\n",
       "      <td>NaN</td>\n",
       "      <td>1986-12-19</td>\n",
       "      <td>NaN</td>\n",
       "    </tr>\n",
       "    <tr>\n",
       "      <th>3</th>\n",
       "      <td>adamsda01w</td>\n",
       "      <td>F-C</td>\n",
       "      <td>0</td>\n",
       "      <td>0</td>\n",
       "      <td>73.0</td>\n",
       "      <td>239</td>\n",
       "      <td>Texas A&amp;M</td>\n",
       "      <td>Jefferson College (JC)</td>\n",
       "      <td>1989-02-19</td>\n",
       "      <td>NaN</td>\n",
       "    </tr>\n",
       "    <tr>\n",
       "      <th>4</th>\n",
       "      <td>adamsjo01w</td>\n",
       "      <td>C</td>\n",
       "      <td>0</td>\n",
       "      <td>0</td>\n",
       "      <td>75.0</td>\n",
       "      <td>180</td>\n",
       "      <td>New Mexico</td>\n",
       "      <td>NaN</td>\n",
       "      <td>1981-05-24</td>\n",
       "      <td>NaN</td>\n",
       "    </tr>\n",
       "  </tbody>\n",
       "</table>\n",
       "</div>"
      ],
      "text/plain": [
       "        bioID  pos  firstseason  lastseason  height  weight  \\\n",
       "0  abrahta01w    C            0           0    74.0     190   \n",
       "1  abrossv01w    F            0           0    74.0     169   \n",
       "2  adairje01w    C            0           0    76.0     197   \n",
       "3  adamsda01w  F-C            0           0    73.0     239   \n",
       "4  adamsjo01w    C            0           0    75.0     180   \n",
       "\n",
       "             college            collegeOther   birthDate deathDate  \n",
       "0  George Washington                     NaN  1975-09-27       NaN  \n",
       "1        Connecticut                     NaN  1980-07-09       NaN  \n",
       "2  George Washington                     NaN  1986-12-19       NaN  \n",
       "3          Texas A&M  Jefferson College (JC)  1989-02-19       NaN  \n",
       "4         New Mexico                     NaN  1981-05-24       NaN  "
      ]
     },
     "execution_count": 38,
     "metadata": {},
     "output_type": "execute_result"
    }
   ],
   "source": [
    "df_players.head()\n",
    "\n",
    "df_players.replace(\"''\", np.nan)\n",
    "\n",
    "df_players.head()"
   ]
  }
 ],
 "metadata": {
  "kernelspec": {
   "display_name": "Python 3 (ipykernel)",
   "language": "python",
   "name": "python3"
  },
  "language_info": {
   "codemirror_mode": {
    "name": "ipython",
    "version": 3
   },
   "file_extension": ".py",
   "mimetype": "text/x-python",
   "name": "python",
   "nbconvert_exporter": "python",
   "pygments_lexer": "ipython3",
   "version": "3.11.0"
  }
 },
 "nbformat": 4,
 "nbformat_minor": 5
}
