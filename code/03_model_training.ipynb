{
 "cells": [
  {
   "cell_type": "markdown",
   "metadata": {},
   "source": [
    "# Model training\n",
    "\n",
    "In thi section we will train the model using different strategies and with different attributes to see which one gives the best results. "
   ]
  },
  {
   "cell_type": "code",
   "execution_count": 55,
   "metadata": {},
   "outputs": [
    {
     "data": {
      "text/html": [
       "<div>\n",
       "<style scoped>\n",
       "    .dataframe tbody tr th:only-of-type {\n",
       "        vertical-align: middle;\n",
       "    }\n",
       "\n",
       "    .dataframe tbody tr th {\n",
       "        vertical-align: top;\n",
       "    }\n",
       "\n",
       "    .dataframe thead th {\n",
       "        text-align: right;\n",
       "    }\n",
       "</style>\n",
       "<table border=\"1\" class=\"dataframe\">\n",
       "  <thead>\n",
       "    <tr style=\"text-align: right;\">\n",
       "      <th></th>\n",
       "      <th>tmID</th>\n",
       "      <th>year</th>\n",
       "      <th>playoff</th>\n",
       "      <th>averageWinRate</th>\n",
       "      <th>averagePoints</th>\n",
       "      <th>averageRebounds</th>\n",
       "      <th>averageAssists</th>\n",
       "      <th>averageSteals</th>\n",
       "      <th>averageBlocks</th>\n",
       "      <th>averageTurnovers</th>\n",
       "      <th>averageFGRatio</th>\n",
       "      <th>averageFTRatio</th>\n",
       "      <th>averageThreeRatio</th>\n",
       "      <th>coachWinRate</th>\n",
       "      <th>numberOfAwardedPlayers</th>\n",
       "    </tr>\n",
       "  </thead>\n",
       "  <tbody>\n",
       "    <tr>\n",
       "      <th>0</th>\n",
       "      <td>WAS</td>\n",
       "      <td>10</td>\n",
       "      <td>Y</td>\n",
       "      <td>0.294118</td>\n",
       "      <td>189.512143</td>\n",
       "      <td>84.572143</td>\n",
       "      <td>42.982857</td>\n",
       "      <td>19.696786</td>\n",
       "      <td>7.073929</td>\n",
       "      <td>44.290357</td>\n",
       "      <td>0.408655</td>\n",
       "      <td>0.717564</td>\n",
       "      <td>0.306577</td>\n",
       "      <td>0.500000</td>\n",
       "      <td>0</td>\n",
       "    </tr>\n",
       "    <tr>\n",
       "      <th>1</th>\n",
       "      <td>WAS</td>\n",
       "      <td>9</td>\n",
       "      <td>N</td>\n",
       "      <td>0.470588</td>\n",
       "      <td>189.708943</td>\n",
       "      <td>82.593336</td>\n",
       "      <td>36.207412</td>\n",
       "      <td>20.147909</td>\n",
       "      <td>8.820809</td>\n",
       "      <td>38.090105</td>\n",
       "      <td>0.402735</td>\n",
       "      <td>0.800336</td>\n",
       "      <td>0.276818</td>\n",
       "      <td>0.500000</td>\n",
       "      <td>2</td>\n",
       "    </tr>\n",
       "    <tr>\n",
       "      <th>2</th>\n",
       "      <td>WAS</td>\n",
       "      <td>8</td>\n",
       "      <td>N</td>\n",
       "      <td>0.529412</td>\n",
       "      <td>239.624444</td>\n",
       "      <td>95.275556</td>\n",
       "      <td>50.680741</td>\n",
       "      <td>25.660000</td>\n",
       "      <td>10.042222</td>\n",
       "      <td>44.559259</td>\n",
       "      <td>0.434105</td>\n",
       "      <td>0.760861</td>\n",
       "      <td>0.303131</td>\n",
       "      <td>0.529412</td>\n",
       "      <td>2</td>\n",
       "    </tr>\n",
       "    <tr>\n",
       "      <th>3</th>\n",
       "      <td>WAS</td>\n",
       "      <td>7</td>\n",
       "      <td>Y</td>\n",
       "      <td>0.470588</td>\n",
       "      <td>216.456929</td>\n",
       "      <td>88.321161</td>\n",
       "      <td>42.381086</td>\n",
       "      <td>23.959738</td>\n",
       "      <td>8.204120</td>\n",
       "      <td>39.441011</td>\n",
       "      <td>0.422553</td>\n",
       "      <td>0.743379</td>\n",
       "      <td>0.337256</td>\n",
       "      <td>0.470588</td>\n",
       "      <td>2</td>\n",
       "    </tr>\n",
       "    <tr>\n",
       "      <th>4</th>\n",
       "      <td>WAS</td>\n",
       "      <td>6</td>\n",
       "      <td>N</td>\n",
       "      <td>0.500000</td>\n",
       "      <td>193.306310</td>\n",
       "      <td>92.482727</td>\n",
       "      <td>39.100875</td>\n",
       "      <td>21.625518</td>\n",
       "      <td>11.273146</td>\n",
       "      <td>39.394288</td>\n",
       "      <td>0.429846</td>\n",
       "      <td>0.706172</td>\n",
       "      <td>0.334885</td>\n",
       "      <td>0.437500</td>\n",
       "      <td>1</td>\n",
       "    </tr>\n",
       "  </tbody>\n",
       "</table>\n",
       "</div>"
      ],
      "text/plain": [
       "  tmID  year playoff  averageWinRate  averagePoints  averageRebounds  \\\n",
       "0  WAS    10       Y        0.294118     189.512143        84.572143   \n",
       "1  WAS     9       N        0.470588     189.708943        82.593336   \n",
       "2  WAS     8       N        0.529412     239.624444        95.275556   \n",
       "3  WAS     7       Y        0.470588     216.456929        88.321161   \n",
       "4  WAS     6       N        0.500000     193.306310        92.482727   \n",
       "\n",
       "   averageAssists  averageSteals  averageBlocks  averageTurnovers  \\\n",
       "0       42.982857      19.696786       7.073929         44.290357   \n",
       "1       36.207412      20.147909       8.820809         38.090105   \n",
       "2       50.680741      25.660000      10.042222         44.559259   \n",
       "3       42.381086      23.959738       8.204120         39.441011   \n",
       "4       39.100875      21.625518      11.273146         39.394288   \n",
       "\n",
       "   averageFGRatio  averageFTRatio  averageThreeRatio  coachWinRate  \\\n",
       "0        0.408655        0.717564           0.306577      0.500000   \n",
       "1        0.402735        0.800336           0.276818      0.500000   \n",
       "2        0.434105        0.760861           0.303131      0.529412   \n",
       "3        0.422553        0.743379           0.337256      0.470588   \n",
       "4        0.429846        0.706172           0.334885      0.437500   \n",
       "\n",
       "   numberOfAwardedPlayers  \n",
       "0                       0  \n",
       "1                       2  \n",
       "2                       2  \n",
       "3                       2  \n",
       "4                       1  "
      ]
     },
     "execution_count": 55,
     "metadata": {},
     "output_type": "execute_result"
    }
   ],
   "source": [
    "import pandas as pd\n",
    "\n",
    "data_file_path = \"./datasets/generated/cleaned_aggregated_data.json\"\n",
    "\n",
    "df = pd.read_json(data_file_path)\n",
    "\n",
    "df.head()"
   ]
  },
  {
   "cell_type": "markdown",
   "metadata": {},
   "source": [
    "## Decision Tree Classifier"
   ]
  },
  {
   "cell_type": "code",
   "execution_count": 56,
   "metadata": {},
   "outputs": [],
   "source": [
    "#load libraries\n",
    "from sklearn.tree import DecisionTreeClassifier # Import Decision Tree Classifier\n",
    "from sklearn.model_selection import train_test_split # Import train_test_split function\n",
    "from sklearn import metrics #Import scikit-learn metrics module for accuracy calculation\n",
    "from sklearn.linear_model import LogisticRegression\n",
    "from sklearn.svm import LinearSVC\n",
    "from sklearn.tree import DecisionTreeClassifier\n",
    "from sklearn.ensemble import RandomForestClassifier\n",
    "from sklearn.naive_bayes import GaussianNB\n",
    "from sklearn.neighbors import KNeighborsClassifier\n",
    "from sklearn.preprocessing import StandardScaler\n"
   ]
  },
  {
   "cell_type": "code",
   "execution_count": 57,
   "metadata": {},
   "outputs": [],
   "source": [
    "# Get the needed features (attributes)\n",
    "features = list(df.columns)\n",
    "features.remove('playoff')\n",
    "features.remove('tmID')\n",
    "target = 'playoff'\n",
    "X = df[features]\n",
    "y = df[target]"
   ]
  },
  {
   "cell_type": "markdown",
   "metadata": {},
   "source": [
    "### Random split of dataset"
   ]
  },
  {
   "cell_type": "code",
   "execution_count": 58,
   "metadata": {},
   "outputs": [],
   "source": [
    "# Split dataset into training set and test set - random split\n",
    "X_train, X_test, y_train, y_test = train_test_split(X, y, test_size=0.3, random_state=1) # 70% training and 30% test"
   ]
  },
  {
   "cell_type": "markdown",
   "metadata": {},
   "source": [
    "We normalize the feature values so we have more training stability"
   ]
  },
  {
   "cell_type": "code",
   "execution_count": 59,
   "metadata": {},
   "outputs": [],
   "source": [
    "ss_train = StandardScaler()\n",
    "X_train = ss_train.fit_transform(X_train)\n",
    "\n",
    "ss_test = StandardScaler()\n",
    "X_test = ss_test.fit_transform(X_test)"
   ]
  },
  {
   "cell_type": "markdown",
   "metadata": {},
   "source": [
    "Create model objects"
   ]
  },
  {
   "cell_type": "code",
   "execution_count": 60,
   "metadata": {},
   "outputs": [],
   "source": [
    "models = {}\n",
    "\n",
    "#Logistic Regression\n",
    "models['Logistic Regression'] = LogisticRegression()\n",
    "\n",
    "#Support Vector Machines\n",
    "models['Support Vector Machines'] = LinearSVC()\n",
    "\n",
    "#Decision Trees\n",
    "models['Decision Trees'] = DecisionTreeClassifier()\n",
    "\n",
    "#Random Forest\n",
    "models['Random Forest'] = RandomForestClassifier()\n",
    "\n",
    "#Naive Bayes\n",
    "models['Naive Bayes'] = GaussianNB()\n",
    "\n",
    "#K-Nearest Neighbors\n",
    "models['K-Nearest Neighbor'] = KNeighborsClassifier()"
   ]
  },
  {
   "cell_type": "markdown",
   "metadata": {},
   "source": [
    "Train, predict and calculate scores"
   ]
  },
  {
   "cell_type": "code",
   "execution_count": 61,
   "metadata": {},
   "outputs": [
    {
     "name": "stderr",
     "output_type": "stream",
     "text": [
      "z:\\Programs\\Python3\\Lib\\site-packages\\sklearn\\svm\\_classes.py:32: FutureWarning: The default value of `dual` will change from `True` to `'auto'` in 1.5. Set the value of `dual` explicitly to suppress the warning.\n",
      "  warnings.warn(\n"
     ]
    }
   ],
   "source": [
    "accuracy, precision, recall = {}, {}, {}\n",
    "\n",
    "for model in models.keys():\n",
    "    # Fit the classifier\n",
    "    models[model].fit(X_train, y_train)\n",
    "    \n",
    "    # Make predictions\n",
    "    y_pred = models[model].predict(X_test)\n",
    "    \n",
    "    # Calculate metrics\n",
    "    accuracy[model] = metrics.accuracy_score(y_test, y_pred)\n",
    "    precision[model] = metrics.precision_score(y_test, y_pred, pos_label='Y')\n",
    "    recall[model] = metrics.recall_score(y_test, y_pred, pos_label='Y')"
   ]
  },
  {
   "cell_type": "markdown",
   "metadata": {},
   "source": [
    "Results for random split"
   ]
  },
  {
   "cell_type": "code",
   "execution_count": 62,
   "metadata": {},
   "outputs": [
    {
     "data": {
      "text/html": [
       "<div>\n",
       "<style scoped>\n",
       "    .dataframe tbody tr th:only-of-type {\n",
       "        vertical-align: middle;\n",
       "    }\n",
       "\n",
       "    .dataframe tbody tr th {\n",
       "        vertical-align: top;\n",
       "    }\n",
       "\n",
       "    .dataframe thead th {\n",
       "        text-align: right;\n",
       "    }\n",
       "</style>\n",
       "<table border=\"1\" class=\"dataframe\">\n",
       "  <thead>\n",
       "    <tr style=\"text-align: right;\">\n",
       "      <th></th>\n",
       "      <th>Accuracy</th>\n",
       "      <th>Precision</th>\n",
       "      <th>Recall</th>\n",
       "    </tr>\n",
       "  </thead>\n",
       "  <tbody>\n",
       "    <tr>\n",
       "      <th>Logistic Regression</th>\n",
       "      <td>0.578947</td>\n",
       "      <td>0.571429</td>\n",
       "      <td>0.631579</td>\n",
       "    </tr>\n",
       "    <tr>\n",
       "      <th>Support Vector Machines</th>\n",
       "      <td>0.605263</td>\n",
       "      <td>0.600000</td>\n",
       "      <td>0.631579</td>\n",
       "    </tr>\n",
       "    <tr>\n",
       "      <th>Decision Trees</th>\n",
       "      <td>0.578947</td>\n",
       "      <td>0.571429</td>\n",
       "      <td>0.631579</td>\n",
       "    </tr>\n",
       "    <tr>\n",
       "      <th>Random Forest</th>\n",
       "      <td>0.605263</td>\n",
       "      <td>0.571429</td>\n",
       "      <td>0.842105</td>\n",
       "    </tr>\n",
       "    <tr>\n",
       "      <th>Naive Bayes</th>\n",
       "      <td>0.657895</td>\n",
       "      <td>0.650000</td>\n",
       "      <td>0.684211</td>\n",
       "    </tr>\n",
       "    <tr>\n",
       "      <th>K-Nearest Neighbor</th>\n",
       "      <td>0.631579</td>\n",
       "      <td>0.631579</td>\n",
       "      <td>0.631579</td>\n",
       "    </tr>\n",
       "  </tbody>\n",
       "</table>\n",
       "</div>"
      ],
      "text/plain": [
       "                         Accuracy  Precision    Recall\n",
       "Logistic Regression      0.578947   0.571429  0.631579\n",
       "Support Vector Machines  0.605263   0.600000  0.631579\n",
       "Decision Trees           0.578947   0.571429  0.631579\n",
       "Random Forest            0.605263   0.571429  0.842105\n",
       "Naive Bayes              0.657895   0.650000  0.684211\n",
       "K-Nearest Neighbor       0.631579   0.631579  0.631579"
      ]
     },
     "execution_count": 62,
     "metadata": {},
     "output_type": "execute_result"
    }
   ],
   "source": [
    "df_results = pd.DataFrame(index=models.keys(), columns=['Accuracy', 'Precision', 'Recall'])\n",
    "df_results['Accuracy'] = accuracy.values()\n",
    "df_results['Precision'] = precision.values()\n",
    "df_results['Recall'] = recall.values()\n",
    "\n",
    "df_results"
   ]
  },
  {
   "cell_type": "markdown",
   "metadata": {},
   "source": [
    "### Split dataset by years (train on oldest)\n",
    "\n",
    "Split dataset such as: Train data - first 7 years, Test data - last 3 years"
   ]
  },
  {
   "cell_type": "code",
   "execution_count": 63,
   "metadata": {},
   "outputs": [
    {
     "name": "stdout",
     "output_type": "stream",
     "text": [
      "X_train:  68.25 %\n",
      "X_test:  31.75 %\n",
      "y_train:  68.25 %\n",
      "y_test:  31.75 %\n"
     ]
    }
   ],
   "source": [
    "\n",
    "#Split dataset in such way that we use latest years for training and older years for testing\n",
    "X_train=df[df[\"year\"]<8][features]\n",
    "X_test=df[df[\"year\"]>=8][features]\n",
    "y_train=df[df[\"year\"]<8][\"playoff\"]\n",
    "y_test=df[df[\"year\"]>=8][\"playoff\"]\n",
    "\n",
    "# Get percentage of data in each dataset\n",
    "print(\"X_train: \", round((len(X_train) / (len(X_train) + len(X_test))) * 100, 2), \"%\")\n",
    "print(\"X_test: \", round((len(X_test) / (len(X_train) + len(X_test))) * 100, 2), \"%\")\n",
    "print(\"y_train: \", round((len(y_train) / (len(y_train) + len(y_test))) * 100, 2), \"%\")\n",
    "print(\"y_test: \", round((len(y_test) / (len(y_train) + len(y_test))) * 100, 2), \"%\")\n"
   ]
  },
  {
   "cell_type": "markdown",
   "metadata": {},
   "source": [
    "We normalize the feature values so we have more training stability"
   ]
  },
  {
   "cell_type": "code",
   "execution_count": 64,
   "metadata": {},
   "outputs": [],
   "source": [
    "ss_train = StandardScaler()\n",
    "X_train = ss_train.fit_transform(X_train)\n",
    "\n",
    "ss_test = StandardScaler()\n",
    "X_test = ss_test.fit_transform(X_test)"
   ]
  },
  {
   "cell_type": "markdown",
   "metadata": {},
   "source": [
    "Create model objects"
   ]
  },
  {
   "cell_type": "code",
   "execution_count": 65,
   "metadata": {},
   "outputs": [],
   "source": [
    "models = {}\n",
    "\n",
    "#Logistic Regression\n",
    "models['Logistic Regression'] = LogisticRegression()\n",
    "\n",
    "#Support Vector Machines\n",
    "models['Support Vector Machines'] = LinearSVC()\n",
    "\n",
    "#Decision Trees\n",
    "models['Decision Trees'] = DecisionTreeClassifier()\n",
    "\n",
    "#Random Forest\n",
    "models['Random Forest'] = RandomForestClassifier()\n",
    "\n",
    "#Naive Bayes\n",
    "models['Naive Bayes'] = GaussianNB()\n",
    "\n",
    "#K-Nearest Neighbors\n",
    "models['K-Nearest Neighbor'] = KNeighborsClassifier()"
   ]
  },
  {
   "cell_type": "markdown",
   "metadata": {},
   "source": [
    "Train, predict and calculate scores"
   ]
  },
  {
   "cell_type": "code",
   "execution_count": 66,
   "metadata": {},
   "outputs": [
    {
     "name": "stderr",
     "output_type": "stream",
     "text": [
      "z:\\Programs\\Python3\\Lib\\site-packages\\sklearn\\svm\\_classes.py:32: FutureWarning: The default value of `dual` will change from `True` to `'auto'` in 1.5. Set the value of `dual` explicitly to suppress the warning.\n",
      "  warnings.warn(\n"
     ]
    }
   ],
   "source": [
    "accuracy, precision, recall = {}, {}, {}\n",
    "\n",
    "for model in models.keys():\n",
    "    \n",
    "    # Fit the classifier\n",
    "    models[model].fit(X_train, y_train)\n",
    "    \n",
    "    # Make predictions\n",
    "    y_pred = models[model].predict(X_test)\n",
    "    \n",
    "    # Calculate metrics\n",
    "    accuracy[model] = metrics.accuracy_score(y_test, y_pred)\n",
    "    precision[model] = metrics.precision_score(y_test, y_pred, pos_label='Y')\n",
    "    recall[model] = metrics.recall_score(y_test, y_pred, pos_label='Y')"
   ]
  },
  {
   "cell_type": "markdown",
   "metadata": {},
   "source": [
    "Results for spliting by years by oldest."
   ]
  },
  {
   "cell_type": "code",
   "execution_count": 67,
   "metadata": {},
   "outputs": [
    {
     "data": {
      "text/html": [
       "<div>\n",
       "<style scoped>\n",
       "    .dataframe tbody tr th:only-of-type {\n",
       "        vertical-align: middle;\n",
       "    }\n",
       "\n",
       "    .dataframe tbody tr th {\n",
       "        vertical-align: top;\n",
       "    }\n",
       "\n",
       "    .dataframe thead th {\n",
       "        text-align: right;\n",
       "    }\n",
       "</style>\n",
       "<table border=\"1\" class=\"dataframe\">\n",
       "  <thead>\n",
       "    <tr style=\"text-align: right;\">\n",
       "      <th></th>\n",
       "      <th>Accuracy</th>\n",
       "      <th>Precision</th>\n",
       "      <th>Recall</th>\n",
       "    </tr>\n",
       "  </thead>\n",
       "  <tbody>\n",
       "    <tr>\n",
       "      <th>Logistic Regression</th>\n",
       "      <td>0.550</td>\n",
       "      <td>0.615385</td>\n",
       "      <td>0.666667</td>\n",
       "    </tr>\n",
       "    <tr>\n",
       "      <th>Support Vector Machines</th>\n",
       "      <td>0.600</td>\n",
       "      <td>0.653846</td>\n",
       "      <td>0.708333</td>\n",
       "    </tr>\n",
       "    <tr>\n",
       "      <th>Decision Trees</th>\n",
       "      <td>0.525</td>\n",
       "      <td>0.608696</td>\n",
       "      <td>0.583333</td>\n",
       "    </tr>\n",
       "    <tr>\n",
       "      <th>Random Forest</th>\n",
       "      <td>0.625</td>\n",
       "      <td>0.714286</td>\n",
       "      <td>0.625000</td>\n",
       "    </tr>\n",
       "    <tr>\n",
       "      <th>Naive Bayes</th>\n",
       "      <td>0.575</td>\n",
       "      <td>0.666667</td>\n",
       "      <td>0.583333</td>\n",
       "    </tr>\n",
       "    <tr>\n",
       "      <th>K-Nearest Neighbor</th>\n",
       "      <td>0.600</td>\n",
       "      <td>0.750000</td>\n",
       "      <td>0.500000</td>\n",
       "    </tr>\n",
       "  </tbody>\n",
       "</table>\n",
       "</div>"
      ],
      "text/plain": [
       "                         Accuracy  Precision    Recall\n",
       "Logistic Regression         0.550   0.615385  0.666667\n",
       "Support Vector Machines     0.600   0.653846  0.708333\n",
       "Decision Trees              0.525   0.608696  0.583333\n",
       "Random Forest               0.625   0.714286  0.625000\n",
       "Naive Bayes                 0.575   0.666667  0.583333\n",
       "K-Nearest Neighbor          0.600   0.750000  0.500000"
      ]
     },
     "execution_count": 67,
     "metadata": {},
     "output_type": "execute_result"
    }
   ],
   "source": [
    "df_results = pd.DataFrame(index=models.keys(), columns=['Accuracy', 'Precision', 'Recall'])\n",
    "df_results['Accuracy'] = accuracy.values()\n",
    "df_results['Precision'] = precision.values()\n",
    "df_results['Recall'] = recall.values()\n",
    "\n",
    "df_results"
   ]
  },
  {
   "cell_type": "markdown",
   "metadata": {},
   "source": [
    "### Split dataset by years (train on latest)\n",
    "\n",
    "Split dataset such as: Train data - last 7 years, Test data - first 3 years"
   ]
  },
  {
   "cell_type": "code",
   "execution_count": 68,
   "metadata": {},
   "outputs": [
    {
     "name": "stdout",
     "output_type": "stream",
     "text": [
      "X_train:  74.6 %\n",
      "X_test:  25.4 %\n",
      "y_train:  74.6 %\n",
      "y_test:  25.4 %\n"
     ]
    }
   ],
   "source": [
    "#Split dataset in such way that we use latest years for training and older years for testing\n",
    "X_train=df[df[\"year\"]>3][features]\n",
    "X_test=df[df[\"year\"]<=3][features]\n",
    "y_train=df[df[\"year\"]>3][\"playoff\"]\n",
    "y_test=df[df[\"year\"]<=3][\"playoff\"]\n",
    "\n",
    "# Get percentage of data in each dataset\n",
    "print(\"X_train: \", round((len(X_train) / (len(X_train) + len(X_test))) * 100, 2), \"%\")\n",
    "print(\"X_test: \", round((len(X_test) / (len(X_train) + len(X_test))) * 100, 2), \"%\")\n",
    "print(\"y_train: \", round((len(y_train) / (len(y_train) + len(y_test))) * 100, 2), \"%\")\n",
    "print(\"y_test: \", round((len(y_test) / (len(y_train) + len(y_test))) * 100, 2), \"%\")\n"
   ]
  },
  {
   "cell_type": "markdown",
   "metadata": {},
   "source": [
    "We normalize the feature values so we have more training stability"
   ]
  },
  {
   "cell_type": "code",
   "execution_count": 69,
   "metadata": {},
   "outputs": [],
   "source": [
    "ss_train = StandardScaler()\n",
    "X_train = ss_train.fit_transform(X_train)\n",
    "\n",
    "ss_test = StandardScaler()\n",
    "X_test = ss_test.fit_transform(X_test)"
   ]
  },
  {
   "cell_type": "markdown",
   "metadata": {},
   "source": [
    "Create model objects"
   ]
  },
  {
   "cell_type": "code",
   "execution_count": 70,
   "metadata": {},
   "outputs": [],
   "source": [
    "models = {}\n",
    "\n",
    "#Logistic Regression\n",
    "models['Logistic Regression'] = LogisticRegression()\n",
    "\n",
    "#Support Vector Machines\n",
    "models['Support Vector Machines'] = LinearSVC()\n",
    "\n",
    "#Decision Trees\n",
    "models['Decision Trees'] = DecisionTreeClassifier()\n",
    "\n",
    "#Random Forest\n",
    "models['Random Forest'] = RandomForestClassifier()\n",
    "\n",
    "#Naive Bayes\n",
    "models['Naive Bayes'] = GaussianNB()\n",
    "\n",
    "#K-Nearest Neighbors\n",
    "models['K-Nearest Neighbor'] = KNeighborsClassifier()"
   ]
  },
  {
   "cell_type": "markdown",
   "metadata": {},
   "source": [
    "Train, predict and calculate scores"
   ]
  },
  {
   "cell_type": "code",
   "execution_count": 71,
   "metadata": {},
   "outputs": [
    {
     "name": "stderr",
     "output_type": "stream",
     "text": [
      "z:\\Programs\\Python3\\Lib\\site-packages\\sklearn\\svm\\_classes.py:32: FutureWarning: The default value of `dual` will change from `True` to `'auto'` in 1.5. Set the value of `dual` explicitly to suppress the warning.\n",
      "  warnings.warn(\n"
     ]
    }
   ],
   "source": [
    "accuracy, precision, recall = {}, {}, {}\n",
    "\n",
    "for model in models.keys():\n",
    "    \n",
    "    # Fit the classifier\n",
    "    models[model].fit(X_train, y_train)\n",
    "    \n",
    "    # Make predictions\n",
    "    y_pred = models[model].predict(X_test)\n",
    "    \n",
    "    # Calculate metrics\n",
    "    accuracy[model] = metrics.accuracy_score(y_test, y_pred)\n",
    "    precision[model] = metrics.precision_score(y_test, y_pred, pos_label='Y')\n",
    "    recall[model] = metrics.recall_score(y_test, y_pred, pos_label='Y')"
   ]
  },
  {
   "cell_type": "markdown",
   "metadata": {},
   "source": [
    "Results for split by year by latest."
   ]
  },
  {
   "cell_type": "code",
   "execution_count": 72,
   "metadata": {},
   "outputs": [
    {
     "data": {
      "text/html": [
       "<div>\n",
       "<style scoped>\n",
       "    .dataframe tbody tr th:only-of-type {\n",
       "        vertical-align: middle;\n",
       "    }\n",
       "\n",
       "    .dataframe tbody tr th {\n",
       "        vertical-align: top;\n",
       "    }\n",
       "\n",
       "    .dataframe thead th {\n",
       "        text-align: right;\n",
       "    }\n",
       "</style>\n",
       "<table border=\"1\" class=\"dataframe\">\n",
       "  <thead>\n",
       "    <tr style=\"text-align: right;\">\n",
       "      <th></th>\n",
       "      <th>Accuracy</th>\n",
       "      <th>Precision</th>\n",
       "      <th>Recall</th>\n",
       "    </tr>\n",
       "  </thead>\n",
       "  <tbody>\n",
       "    <tr>\n",
       "      <th>Logistic Regression</th>\n",
       "      <td>0.53125</td>\n",
       "      <td>0.521739</td>\n",
       "      <td>0.7500</td>\n",
       "    </tr>\n",
       "    <tr>\n",
       "      <th>Support Vector Machines</th>\n",
       "      <td>0.56250</td>\n",
       "      <td>0.545455</td>\n",
       "      <td>0.7500</td>\n",
       "    </tr>\n",
       "    <tr>\n",
       "      <th>Decision Trees</th>\n",
       "      <td>0.56250</td>\n",
       "      <td>0.545455</td>\n",
       "      <td>0.7500</td>\n",
       "    </tr>\n",
       "    <tr>\n",
       "      <th>Random Forest</th>\n",
       "      <td>0.50000</td>\n",
       "      <td>0.500000</td>\n",
       "      <td>0.6875</td>\n",
       "    </tr>\n",
       "    <tr>\n",
       "      <th>Naive Bayes</th>\n",
       "      <td>0.62500</td>\n",
       "      <td>0.611111</td>\n",
       "      <td>0.6875</td>\n",
       "    </tr>\n",
       "    <tr>\n",
       "      <th>K-Nearest Neighbor</th>\n",
       "      <td>0.62500</td>\n",
       "      <td>0.611111</td>\n",
       "      <td>0.6875</td>\n",
       "    </tr>\n",
       "  </tbody>\n",
       "</table>\n",
       "</div>"
      ],
      "text/plain": [
       "                         Accuracy  Precision  Recall\n",
       "Logistic Regression       0.53125   0.521739  0.7500\n",
       "Support Vector Machines   0.56250   0.545455  0.7500\n",
       "Decision Trees            0.56250   0.545455  0.7500\n",
       "Random Forest             0.50000   0.500000  0.6875\n",
       "Naive Bayes               0.62500   0.611111  0.6875\n",
       "K-Nearest Neighbor        0.62500   0.611111  0.6875"
      ]
     },
     "execution_count": 72,
     "metadata": {},
     "output_type": "execute_result"
    }
   ],
   "source": [
    "df_results = pd.DataFrame(index=models.keys(), columns=['Accuracy', 'Precision', 'Recall'])\n",
    "df_results['Accuracy'] = accuracy.values()\n",
    "df_results['Precision'] = precision.values()\n",
    "df_results['Recall'] = recall.values()\n",
    "\n",
    "df_results"
   ]
  },
  {
   "cell_type": "markdown",
   "metadata": {},
   "source": [
    "## Conclusion\n",
    "\n",
    "From the tested methods for training the model we can summarize the best models as follows:\n",
    "\n",
    "| Split | Method | Accuracy | Precision | Recall |\n",
    "| ----- | ------ | -------- | --------- | ------ |\n",
    "| Random split (70% train, 30% test) | Naive Bayes | 0.657895 | 0.650000 | 0.684211 |\n",
    "| Split by year - train on oldest 7 | K-Nearest Neighbor | 0.600 | 0.750000 | 0.500000 |\n",
    "| Split by year - train on latest 7 | Naive Bayesa, K-Nearest Neighbor | 0.62500 | 0.611111 | 0.6875 |"
   ]
  }
 ],
 "metadata": {
  "kernelspec": {
   "display_name": "Python 3",
   "language": "python",
   "name": "python3"
  },
  "language_info": {
   "codemirror_mode": {
    "name": "ipython",
    "version": 3
   },
   "file_extension": ".py",
   "mimetype": "text/x-python",
   "name": "python",
   "nbconvert_exporter": "python",
   "pygments_lexer": "ipython3",
   "version": "3.11.0"
  }
 },
 "nbformat": 4,
 "nbformat_minor": 2
}
